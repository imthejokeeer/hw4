{
 "cells": [
  {
   "cell_type": "code",
   "execution_count": 6,
   "id": "fcc69260-c3a0-4c99-ae3d-62cfeaf8cd52",
   "metadata": {},
   "outputs": [
    {
     "name": "stdin",
     "output_type": "stream",
     "text": [
      "Введите целое число N (N >= 2):  0\n"
     ]
    },
    {
     "name": "stdout",
     "output_type": "stream",
     "text": [
      "N должно быть больше или равно 2.\n"
     ]
    },
    {
     "name": "stdin",
     "output_type": "stream",
     "text": [
      "Введите целое число N (N >= 2):  1\n"
     ]
    },
    {
     "name": "stdout",
     "output_type": "stream",
     "text": [
      "N должно быть больше или равно 2.\n"
     ]
    },
    {
     "name": "stdin",
     "output_type": "stream",
     "text": [
      "Введите целое число N (N >= 2):  вылвыыыв2\n"
     ]
    },
    {
     "name": "stdout",
     "output_type": "stream",
     "text": [
      "Ошибка: Пожалуйста, введите целое число.\n"
     ]
    },
    {
     "name": "stdin",
     "output_type": "stream",
     "text": [
      "Введите целое число N (N >= 2):  34\n"
     ]
    },
    {
     "name": "stdout",
     "output_type": "stream",
     "text": [
      "2\n",
      "3\n",
      "5\n",
      "7\n",
      "11\n",
      "13\n",
      "17\n",
      "19\n",
      "23\n",
      "29\n",
      "31\n"
     ]
    }
   ],
   "source": [
    "def sieve_of_eratosthenes_dict(limit):\n",
    "    if limit < 2:\n",
    "        return []\n",
    "\n",
    "    primes = {i: True for i in range(2, limit + 1)} #словарь. ключ = число. true = простое\n",
    "    primes[0] = primes[1] = False\n",
    "\n",
    "    for i in range(2, int(limit**0.5) + 1):\n",
    "        if primes[i]: #если число простое, то отмечаем его кратные как составные\n",
    "            for j in range(i * i, limit + 1, i):\n",
    "                primes[j] = False\n",
    "\n",
    "    return [i for i, is_prime in primes.items() if is_prime]\n",
    "\n",
    "\n",
    "if __name__ == \"__main__\":\n",
    "    while True:\n",
    "        try:\n",
    "            n = int(input(\"Введите целое число N (N >= 2): \"))\n",
    "            if n < 2:\n",
    "                print(\"N должно быть больше или равно 2.\")\n",
    "            else:\n",
    "                primes = sieve_of_eratosthenes_dict(n)\n",
    "                for p in primes:\n",
    "                    print(p)\n",
    "                break\n",
    "        except ValueError:\n",
    "            print(\"Ошибка: Пожалуйста, введите целое число.\")"
   ]
  }
 ],
 "metadata": {
  "kernelspec": {
   "display_name": "Python 3 (ipykernel)",
   "language": "python",
   "name": "python3"
  },
  "language_info": {
   "codemirror_mode": {
    "name": "ipython",
    "version": 3
   },
   "file_extension": ".py",
   "mimetype": "text/x-python",
   "name": "python",
   "nbconvert_exporter": "python",
   "pygments_lexer": "ipython3",
   "version": "3.12.5"
  }
 },
 "nbformat": 4,
 "nbformat_minor": 5
}
